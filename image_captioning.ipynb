{
  "cells": [
    {
      "cell_type": "markdown",
      "metadata": {
        "id": "view-in-github",
        "colab_type": "text"
      },
      "source": [
        "<a href=\"https://colab.research.google.com/github/harini-ht/cse311-ai/blob/main/image_captioning.ipynb\" target=\"_parent\"><img src=\"https://colab.research.google.com/assets/colab-badge.svg\" alt=\"Open In Colab\"/></a>"
      ]
    },
    {
      "cell_type": "markdown",
      "source": [
        "### Install Kaggle\n",
        "To download dataset directly from kaggle"
      ],
      "metadata": {
        "id": "dpsXhX2r4Qxr"
      }
    },
    {
      "cell_type": "code",
      "source": [
        "!pip install kaggle"
      ],
      "metadata": {
        "colab": {
          "base_uri": "https://localhost:8080/"
        },
        "id": "MyXEX0fQ4PlI",
        "outputId": "72d102e6-0f50-403d-bcf1-20d4607373eb"
      },
      "execution_count": 1,
      "outputs": [
        {
          "output_type": "stream",
          "name": "stdout",
          "text": [
            "Looking in indexes: https://pypi.org/simple, https://us-python.pkg.dev/colab-wheels/public/simple/\n",
            "Requirement already satisfied: kaggle in /usr/local/lib/python3.7/dist-packages (1.5.12)\n",
            "Requirement already satisfied: tqdm in /usr/local/lib/python3.7/dist-packages (from kaggle) (4.64.1)\n",
            "Requirement already satisfied: certifi in /usr/local/lib/python3.7/dist-packages (from kaggle) (2022.9.24)\n",
            "Requirement already satisfied: python-dateutil in /usr/local/lib/python3.7/dist-packages (from kaggle) (2.8.2)\n",
            "Requirement already satisfied: python-slugify in /usr/local/lib/python3.7/dist-packages (from kaggle) (6.1.2)\n",
            "Requirement already satisfied: urllib3 in /usr/local/lib/python3.7/dist-packages (from kaggle) (1.24.3)\n",
            "Requirement already satisfied: six>=1.10 in /usr/local/lib/python3.7/dist-packages (from kaggle) (1.15.0)\n",
            "Requirement already satisfied: requests in /usr/local/lib/python3.7/dist-packages (from kaggle) (2.23.0)\n",
            "Requirement already satisfied: text-unidecode>=1.3 in /usr/local/lib/python3.7/dist-packages (from python-slugify->kaggle) (1.3)\n",
            "Requirement already satisfied: idna<3,>=2.5 in /usr/local/lib/python3.7/dist-packages (from requests->kaggle) (2.10)\n",
            "Requirement already satisfied: chardet<4,>=3.0.2 in /usr/local/lib/python3.7/dist-packages (from requests->kaggle) (3.0.4)\n"
          ]
        }
      ]
    },
    {
      "cell_type": "markdown",
      "source": [
        "### Connect to g-drive"
      ],
      "metadata": {
        "id": "6b49rutU4qQC"
      }
    },
    {
      "cell_type": "markdown",
      "source": [],
      "metadata": {
        "id": "SbKtN20l4qED"
      }
    },
    {
      "cell_type": "code",
      "source": [
        "from google.colab import drive\n",
        "drive.mount('/content/gdrive')"
      ],
      "metadata": {
        "colab": {
          "base_uri": "https://localhost:8080/"
        },
        "id": "O567EBLe4ptG",
        "outputId": "b5a93408-06a6-4cd1-e091-0de78ff7ce3e"
      },
      "execution_count": 2,
      "outputs": [
        {
          "output_type": "stream",
          "name": "stdout",
          "text": [
            "Mounted at /content/gdrive\n"
          ]
        }
      ]
    },
    {
      "metadata": {
        "id": "Ipd4ksJwcSIV",
        "trusted": true,
        "collapsed": true,
        "_uuid": "027dcb287a8a3dc7ba202b3ff6e7b1858e1ff576"
      },
      "cell_type": "code",
      "source": [
        "import os\n",
        "os.environ['KAGGLE_CONFIG_DIR'] = \"/content/gdrive/My Drive/Kaggle\""
      ],
      "execution_count": 3,
      "outputs": []
    },
    {
      "cell_type": "markdown",
      "source": [
        "### Download dataset from kaggle"
      ],
      "metadata": {
        "id": "VOJEEFF77KlE"
      }
    },
    {
      "cell_type": "code",
      "source": [
        "!kaggle datasets download -d hsankesara/flickr-image-dataset -p \"/content/gdrive/My Drive/Kaggle\""
      ],
      "metadata": {
        "colab": {
          "base_uri": "https://localhost:8080/"
        },
        "id": "vbbF_g856ZXd",
        "outputId": "b3b6a9cf-f8f5-4d0f-89d2-b6ad2c9159bb"
      },
      "execution_count": 4,
      "outputs": [
        {
          "output_type": "stream",
          "name": "stdout",
          "text": [
            "flickr-image-dataset.zip: Skipping, found more recently modified local copy (use --force to force download)\n"
          ]
        }
      ]
    },
    {
      "cell_type": "markdown",
      "source": [
        "## Unzip"
      ],
      "metadata": {
        "id": "gXJiWsZ17Xka"
      }
    },
    {
      "cell_type": "code",
      "source": [
        "!unzip \"/content/gdrive/My Drive/Kaggle/flickr-image-dataset.zip\" && rm *.zip."
      ],
      "metadata": {
        "id": "41YemrBh7Q1h"
      },
      "execution_count": null,
      "outputs": []
    },
    {
      "metadata": {
        "id": "fyIiG75Bdk63",
        "trusted": true,
        "collapsed": true,
        "_uuid": "d123136d2fbbc547e9991ec605a3eb10865817a8"
      },
      "cell_type": "code",
      "source": [
        "train_images_list = os.listdir('flickr30k_images/flickr30k_images/flickr30k_images/')"
      ],
      "execution_count": 6,
      "outputs": []
    },
    {
      "metadata": {
        "id": "AgYHDYuXd7Cg",
        "trusted": true,
        "collapsed": true,
        "_uuid": "7e5c0d9d81124de0655dfbe926eaaa92aab87704"
      },
      "cell_type": "code",
      "source": [
        "sample_size = 30\n",
        "train_images_list = train_images_list[:sample_size]"
      ],
      "execution_count": 7,
      "outputs": []
    },
    {
      "metadata": {
        "id": "mFsDFudbeSCS",
        "trusted": true,
        "_uuid": "a1ed1431aa9d970cf1db5a70b1737425b4cb1674",
        "collapsed": true
      },
      "cell_type": "code",
      "source": [
        "import tensorflow as tf\n",
        "import cv2\n",
        "import numpy as np\n",
        "import os\n",
        "from matplotlib import pyplot as plt\n",
        "import random"
      ],
      "execution_count": 8,
      "outputs": []
    },
    {
      "metadata": {
        "id": "Zp6efJj-ejKo",
        "trusted": true,
        "collapsed": true,
        "_uuid": "f01f05bb3463b1a6c5d8c1c31f9bdb0c8a7bb6b9"
      },
      "cell_type": "code",
      "source": [
        "size = (256, 256)\n",
        "num_channels = 3"
      ],
      "execution_count": 9,
      "outputs": []
    },
    {
      "metadata": {
        "trusted": true,
        "collapsed": true,
        "_uuid": "6988b3de2c3463b71af8cfab45b18fddc5e183ce",
        "id": "Kb_7qCWp4EeD"
      },
      "cell_type": "code",
      "source": [
        "train = np.array([None] * sample_size)\n",
        "real_images = np.array([None] * sample_size)"
      ],
      "execution_count": 10,
      "outputs": []
    },
    {
      "metadata": {
        "id": "SQMjZ26Hernd",
        "trusted": true,
        "_uuid": "e1e391ad329d70721d7e1d421ea0a550f20753cf",
        "collapsed": true
      },
      "cell_type": "code",
      "source": [
        "j = 0\n",
        "for i in train_images_list:\n",
        "    real_images[j] = np.array(plt.imread('flickr30k_images/flickr30k_images/flickr30k_images/' + i))\n",
        "    train[j] = np.array(plt.imread('flickr30k_images/flickr30k_images/flickr30k_images/' + i))\n",
        "    j += 1"
      ],
      "execution_count": 11,
      "outputs": []
    },
    {
      "metadata": {
        "id": "QRtvphNXfKaM",
        "trusted": true,
        "_uuid": "69fe8909863de60d3fa303ab8cc72531b0d8e2b7",
        "collapsed": true
      },
      "cell_type": "code",
      "source": [
        "j = 0\n",
        "for i in train:\n",
        "    train[j] = cv2.resize(i, size)\n",
        "    train[j] = train[j].reshape(1, size[0], size[1], num_channels)\n",
        "    j += 1"
      ],
      "execution_count": 12,
      "outputs": []
    },
    {
      "metadata": {
        "id": "sAKWb-HUf3HC",
        "trusted": true,
        "collapsed": true,
        "_uuid": "4b1ba10fc3cbee9e3818530f93ac566ec11ce5cc"
      },
      "cell_type": "code",
      "source": [
        "train = np.vstack(train[:])"
      ],
      "execution_count": 13,
      "outputs": []
    },
    {
      "metadata": {
        "trusted": true,
        "_uuid": "b841d8639bfc147171160f7379aec1e800e72628",
        "collapsed": true,
        "colab": {
          "base_uri": "https://localhost:8080/",
          "height": 269
        },
        "id": "zNpV28LG4EeG",
        "outputId": "3d79e5a9-ce4c-464d-c205-3bcae84a2f9d"
      },
      "cell_type": "code",
      "source": [
        "plt.imshow(np.squeeze(train[2]))\n",
        "plt.show()"
      ],
      "execution_count": 14,
      "outputs": [
        {
          "output_type": "display_data",
          "data": {
            "text/plain": [
              "<Figure size 432x288 with 1 Axes>"
            ],
            "image/png": "[encoded data removed]"
          },
          "metadata": {
            "needs_background": "light"
          }
        }
      ]
    },
    {
      "metadata": {
        "id": "td87YtIRi8xs",
        "trusted": true,
        "collapsed": true,
        "_uuid": "1d9f90c2e64a2a6830c9f49758d94f5db159385d"
      },
      "cell_type": "code",
      "source": [
        "import pandas as pd"
      ],
      "execution_count": 15,
      "outputs": []
    },
    {
      "metadata": {
        "id": "AqJjszXzi-jR",
        "trusted": true,
        "_uuid": "54bdc5a3fceab2a5a538a0ce50231251ea961361",
        "collapsed": true
      },
      "cell_type": "code",
      "source": [
        "train_captions = pd.read_csv('flickr30k_images/flickr30k_images/results.csv', delimiter='|')"
      ],
      "execution_count": 16,
      "outputs": []
    },
    {
      "metadata": {
        "id": "nE1qWrozjT0C",
        "trusted": true,
        "collapsed": true,
        "_uuid": "4949d00996ecc5d061e34ff084ecd9dfe202c0b3"
      },
      "cell_type": "code",
      "source": [
        "def get_images_id(names):\n",
        "    names = [int(x.split('_')[-1].split('.')[0]) for x in names]\n",
        "    return names"
      ],
      "execution_count": 17,
      "outputs": []
    },
    {
      "metadata": {
        "id": "PuFLzZj5kSZE",
        "trusted": true,
        "collapsed": true,
        "_uuid": "7c0cf91709d12bf2b9d908999a132b1b78529c69"
      },
      "cell_type": "code",
      "source": [
        "# ids = get_images_id(train_images_list[:sample_size])"
      ],
      "execution_count": 18,
      "outputs": []
    },
    {
      "metadata": {
        "trusted": true,
        "collapsed": true,
        "_uuid": "2bd0e028cd8a570955c538400390d16e261d4035",
        "id": "3f9g9aIO4EeH"
      },
      "cell_type": "code",
      "source": [
        "train_captions.columns = ['image_name', 'comment_number', 'comment']"
      ],
      "execution_count": 19,
      "outputs": []
    },
    {
      "metadata": {
        "id": "_yuCtfnWjHkY",
        "trusted": true,
        "collapsed": true,
        "_uuid": "a1c3155203776232ad264203e18c07952a7aca59"
      },
      "cell_type": "code",
      "source": [
        "def images_map_caption(train_images_list, train_captions):\n",
        "    caption = []\n",
        "    for i in train_images_list:\n",
        "        caption.append(train_captions[train_captions['image_name'] == i]['comment'].iat[0])\n",
        "    return caption"
      ],
      "execution_count": 20,
      "outputs": []
    },
    {
      "metadata": {
        "id": "SdoS4BmVeRP3",
        "colab": {
          "base_uri": "https://localhost:8080/"
        },
        "outputId": "fbb08079-dc06-427d-e1b8-f86b5817f5ae",
        "trusted": true,
        "_uuid": "0a3e672a7f167adb00160a47c2d5b018844f534b",
        "collapsed": true
      },
      "cell_type": "code",
      "source": [
        "captions = np.array(images_map_caption(train_images_list, train_captions))\n",
        "print(captions.shape)"
      ],
      "execution_count": 21,
      "outputs": [
        {
          "output_type": "stream",
          "name": "stdout",
          "text": [
            "(30,)\n"
          ]
        }
      ]
    },
    {
      "metadata": {
        "id": "2708Pq12qMzs",
        "trusted": true,
        "collapsed": true,
        "_uuid": "fdfef16f4ff82149d6b86976b561ee5a5232225e"
      },
      "cell_type": "code",
      "source": [
        "import re"
      ],
      "execution_count": 22,
      "outputs": []
    },
    {
      "metadata": {
        "id": "yz6_VyvQotjz",
        "trusted": true,
        "collapsed": true,
        "_uuid": "6aff8e5fd4f070da906323da1a7c89c824eceff0"
      },
      "cell_type": "code",
      "source": [
        "start_tag = '<s>'\n",
        "end_tag = '<e>'"
      ],
      "execution_count": 23,
      "outputs": []
    },
    {
      "metadata": {
        "id": "vo3MsM6KmYtM",
        "trusted": true,
        "_uuid": "54c96bc920a2ecd5970ee29aff480b9679b51b27",
        "collapsed": true
      },
      "cell_type": "code",
      "source": [
        "def get_vocab(captions):\n",
        "    arr = []\n",
        "    m = captions.shape[0]\n",
        "    sentence = [None ] * m\n",
        "    j  = 0\n",
        "    for i in captions:\n",
        "        i = re.sub(' +',' ',i)\n",
        "        i = start_tag + ' ' + i + ' ' + end_tag\n",
        "        sentence[j] = i.split()\n",
        "        j += 1\n",
        "        arr = arr + i.split()\n",
        "    arr = list(set(arr))\n",
        "    vocab_size = len(arr)\n",
        "    j = 0\n",
        "    fwd_dict = {}\n",
        "    rev_dict = {}\n",
        "    j = 0\n",
        "    for i in arr:\n",
        "        fwd_dict[i] = j\n",
        "        rev_dict[j] = i\n",
        "        j += 1\n",
        "    return vocab_size, sentence, fwd_dict, rev_dict"
      ],
      "execution_count": 24,
      "outputs": []
    },
    {
      "metadata": {
        "id": "E1SUDY3tpMJH",
        "trusted": true,
        "collapsed": true,
        "_uuid": "6ce493f4aec41087b3ef1aa509e9b6b38145c466"
      },
      "cell_type": "code",
      "source": [
        "vocab_size, sentences, fwd_dict, rev_dict = get_vocab(captions)"
      ],
      "execution_count": 25,
      "outputs": []
    },
    {
      "metadata": {
        "id": "S5qZSfNrp4yj",
        "trusted": true,
        "collapsed": true,
        "_uuid": "a8407f55150928e1f84bd5e88f418cddeeb7fdb2"
      },
      "cell_type": "code",
      "source": [
        "from scipy.sparse import csr_matrix\n",
        "from scipy.sparse import vstack"
      ],
      "execution_count": 26,
      "outputs": []
    },
    {
      "metadata": {
        "id": "6iHPTn5jdiXc",
        "trusted": true,
        "_uuid": "82dbde1ab8ddcd00f1d27780956e094aadfdf904",
        "collapsed": true
      },
      "cell_type": "code",
      "source": [
        "m = len(sentences)\n",
        "train_caption = [None] * m\n",
        "i = 0\n",
        "for sentence in sentences:\n",
        "    cap_array = None\n",
        "    for word in sentence:\n",
        "        row = [0]\n",
        "        col = [fwd_dict[word]]\n",
        "        data = [1]\n",
        "        if cap_array is None:\n",
        "            cap_array = csr_matrix((data, (row, col)), shape=(1, vocab_size))\n",
        "        else:\n",
        "            cap_array = vstack((cap_array, csr_matrix((data, (row, col)), shape=(1, vocab_size))))\n",
        "    train_caption[i] = cap_array\n",
        "    i += 1"
      ],
      "execution_count": 27,
      "outputs": []
    },
    {
      "metadata": {
        "id": "WAvt9X8Zs_mT",
        "colab": {
          "base_uri": "https://localhost:8080/"
        },
        "outputId": "0d898cbb-35d7-4b77-a90f-106addd055f2",
        "trusted": true,
        "_uuid": "82f2315d9955ab1092d5388e11bd1cff456d2cb1",
        "collapsed": true
      },
      "cell_type": "code",
      "source": [
        "train_caption[0].shape"
      ],
      "execution_count": 28,
      "outputs": [
        {
          "output_type": "execute_result",
          "data": {
            "text/plain": [
              "(20, 255)"
            ]
          },
          "metadata": {},
          "execution_count": 28
        }
      ]
    },
    {
      "metadata": {
        "id": "GZsRljdwsvup",
        "_uuid": "58047a18f3beef69eb17f9a2ab048cf786eff54f"
      },
      "cell_type": "markdown",
      "source": [
        "# Model Design"
      ]
    },
    {
      "metadata": {
        "_uuid": "6b48d79e8c7b194286fbf1635129603dd98a4a2f",
        "id": "rS97CwcU4EeM"
      },
      "cell_type": "markdown",
      "source": [
        "## Training Model"
      ]
    },
    {
      "metadata": {
        "id": "c6HbNIjStZTi",
        "trusted": true,
        "collapsed": true,
        "_uuid": "7518da8c259fcf27f56fc20e17defa4663a382ac"
      },
      "cell_type": "code",
      "source": [
        "def create_weights(shape, suffix):\n",
        "    return tf.Variable(tf.compat.v1.random.truncated_normal(shape, stddev=0.7), name='W_' + suffix)\n",
        "\n",
        "def create_biases(size, suffix):\n",
        "    return tf.Variable(tf.zeros([size]), name='b_' + suffix)"
      ],
      "execution_count": 29,
      "outputs": []
    },
    {
      "metadata": {
        "id": "hzOoOr5cueD4",
        "trusted": true,
        "collapsed": true,
        "_uuid": "63ca7ac94333515cda6add9ded230b0ff1d714da"
      },
      "cell_type": "code",
      "source": [
        "def conv_layer(inp, kernel_shape, num_channels, num_kernels, suffix):\n",
        "    filter_shape = [kernel_shape[0], kernel_shape[1], num_channels, num_kernels]\n",
        "    weights = create_weights(shape=filter_shape, suffix=suffix)\n",
        "    biases = create_biases(num_kernels, suffix=suffix)\n",
        "    layer = tf.nn.conv2d(input=inp, filters=weights, padding='SAME', strides=[1, 1, 1, 1], name='conv_' + suffix)\n",
        "    layer += biases\n",
        "    layer = tf.nn.relu6(layer, name='relu_' + suffix)\n",
        "    #layer = tf.nn.max_pool(layer, ksize=[1, 2, 2, 1], strides=[1, 2, 2,1], padding= 'SAME')\n",
        "    return layer\n",
        "\n"
      ],
      "execution_count": 30,
      "outputs": []
    },
    {
      "metadata": {
        "id": "oaxxJOF8vgDw",
        "trusted": true,
        "collapsed": true,
        "_uuid": "5962b31a58597ee461dd09f5f0ecb6e77accaeea"
      },
      "cell_type": "code",
      "source": [
        "def flatten_layer(layer, suffix):\n",
        "    layer_shape = layer.get_shape()\n",
        "    num_features = layer_shape[1:4].num_elements()\n",
        "    layer = tf.reshape(layer, [-1, num_features], name='flat_' + suffix )\n",
        "    return layer\n"
      ],
      "execution_count": 31,
      "outputs": []
    },
    {
      "metadata": {
        "id": "PvKb2o63u-oO",
        "trusted": true,
        "collapsed": true,
        "_uuid": "fab37684e0cffed781264e675952c71820cb8d64"
      },
      "cell_type": "code",
      "source": [
        "def dense_layer(inp, num_inputs, num_outputs, suffix, use_relu=True):\n",
        "    weights = create_weights([num_inputs, num_outputs], suffix)\n",
        "    biases = create_biases(num_outputs, suffix)\n",
        "    layer = tf.matmul(inp, weights) + biases\n",
        "    layer = tf.nn.relu(layer)\n",
        "    return layer"
      ],
      "execution_count": 32,
      "outputs": []
    },
    {
      "metadata": {
        "id": "6hythQIIyF_4",
        "trusted": true,
        "collapsed": true,
        "_uuid": "05aae0d63ec78891400c05eeb939f7af9eed2300"
      },
      "cell_type": "code",
      "source": [
        "def rnn_cell(Win ,Wout, Wfwd, b, hprev, inp):\n",
        "    h = tf.tanh(tf.add(tf.add(tf.matmul(inp, Win), tf.matmul(hprev, Wfwd)), b))\n",
        "    out = tf.matmul(h, Wo)\n",
        "    return h, out"
      ],
      "execution_count": 33,
      "outputs": []
    },
    {
      "metadata": {
        "id": "VJZAej04r1ee",
        "trusted": true,
        "collapsed": true,
        "_uuid": "bbd9e697fc1c9acee2f74b2576e53d56b565e7fd"
      },
      "cell_type": "code",
      "source": [
        "import tensorflow as tf"
      ],
      "execution_count": 34,
      "outputs": []
    },
    {
      "metadata": {
        "id": "B6ZP0Fupuyt1",
        "colab": {
          "base_uri": "https://localhost:8080/"
        },
        "outputId": "c515ade4-2e7d-4d23-fa5e-58170364bf57",
        "trusted": true,
        "_uuid": "29658d7b79d8338d0b9798d3b191b8b6fff74ced",
        "collapsed": true
      },
      "cell_type": "code",
      "source": [
        "tf.device(\"/device:GPU:0\")"
      ],
      "execution_count": 35,
      "outputs": [
        {
          "output_type": "execute_result",
          "data": {
            "text/plain": [
              "<tensorflow.python.eager.context._EagerDeviceContext at 0x7f3ba67ac870>"
            ]
          },
          "metadata": {},
          "execution_count": 35
        }
      ]
    },
    {
      "metadata": {
        "id": "Y1qMRv4JtOXT",
        "trusted": true,
        "collapsed": true,
        "_uuid": "e65ed189f559a876be92a6cbd5e17aa17812f652"
      },
      "cell_type": "code",
      "source": [
        "learning_rate = 0.0001\n",
        "training_iters = 5000\n",
        "display_step = 1000\n",
        "max_sent_limit = 50\n",
        "num_tests = 12\n",
        "bridge_size = 1024\n",
        "keep_prob = 0.3"
      ],
      "execution_count": 36,
      "outputs": []
    },
    {
      "cell_type": "code",
      "source": [
        "tf.compat.v1.disable_eager_execution()"
      ],
      "metadata": {
        "id": "N1QnNJSuNQhC"
      },
      "execution_count": 37,
      "outputs": []
    },
    {
      "metadata": {
        "id": "69baaPwNs4ii",
        "trusted": true,
        "collapsed": true,
        "_uuid": "e4bbbd4b027fb9f9c75601d9bb41f73bcafed8b0"
      },
      "cell_type": "code",
      "source": [
        "x_caption = tf.compat.v1.placeholder(tf.float32, [None, vocab_size], name = 'x_caption')\n",
        "x_inp = tf.compat.v1.placeholder(tf.float32, shape=[1, size[0],size[1],num_channels], name='x_image')\n",
        "y = tf.compat.v1.placeholder(tf.float32, [None, vocab_size], name = 'x_caption')"
      ],
      "execution_count": 38,
      "outputs": []
    },
    {
      "metadata": {
        "id": "rNQHaectxoQD",
        "trusted": true,
        "collapsed": true,
        "_uuid": "8efbd024f019c8baeb8be4e38153d975bcedafe4"
      },
      "cell_type": "code",
      "source": [
        "Wconv = tf.Variable(tf.compat.v1.random.truncated_normal([bridge_size, vocab_size], stddev=0.7))\n",
        "bconv = tf.Variable(tf.zeros([1, vocab_size]))\n",
        "Wi= tf.Variable(tf.compat.v1.random.truncated_normal([vocab_size, vocab_size], stddev=0.7))\n",
        "Wf= tf.Variable(tf.compat.v1.random.truncated_normal([vocab_size, vocab_size], stddev=0.7))\n",
        "Wo= tf.Variable(tf.compat.v1.random.truncated_normal([vocab_size, vocab_size], stddev=0.7))\n",
        "b = tf.Variable(tf.zeros([1, vocab_size]))"
      ],
      "execution_count": 39,
      "outputs": []
    },
    {
      "metadata": {
        "id": "rKX2Sz64uJ3s",
        "trusted": true,
        "_uuid": "56bb06ffdd600bf5143d39dd768546774f50bea5",
        "collapsed": true
      },
      "cell_type": "code",
      "source": [
        "layer_conv1 = conv_layer(inp=x_inp, kernel_shape=(3, 3), num_kernels=32, num_channels=3, suffix='1')\n",
        "layer_conv2 = conv_layer(inp=layer_conv1, kernel_shape=(3, 3), num_kernels=32, num_channels=32, suffix='2')\n",
        "maxpool1 = tf.nn.max_pool(layer_conv2, ksize=[1, 2, 2, 1], strides=[1, 2, 2,1], padding= 'SAME')\n",
        "layer_conv3 = conv_layer(inp=maxpool1, kernel_shape=(3, 3), num_kernels=64, num_channels=32, suffix='3')\n",
        "layer_conv4 = conv_layer(inp=layer_conv3, kernel_shape=(3, 3), num_kernels=64, num_channels=64, suffix='4')\n",
        "maxpool2 = tf.nn.max_pool(layer_conv4, ksize=[1, 2, 2, 1], strides=[1, 2, 2,1], padding= 'SAME')\n",
        "layer_conv5 = conv_layer(inp=maxpool2, kernel_shape=(3, 3), num_kernels=128, num_channels=64, suffix='5')\n",
        "layer_conv6 = conv_layer(inp=layer_conv5, kernel_shape=(3, 3), num_kernels=128, num_channels=128, suffix='6')\n",
        "maxpool3 = tf.nn.max_pool(layer_conv6, ksize=[1, 2, 2, 1], strides=[1, 2, 2,1], padding= 'SAME')\n",
        "layer_conv7 = conv_layer(inp=maxpool3, kernel_shape=(3, 3), num_kernels=256, num_channels=128, suffix='7')\n",
        "layer_conv8 = conv_layer(inp=layer_conv7, kernel_shape=(3, 3), num_kernels=256, num_channels=256, suffix='8')"
      ],
      "execution_count": 40,
      "outputs": []
    },
    {
      "metadata": {
        "id": "mw8YutfSvuQp",
        "trusted": true,
        "_uuid": "179055c4b7b6805e20a6f610596ed5279a7e0df5",
        "scrolled": false,
        "collapsed": true
      },
      "cell_type": "code",
      "source": [
        "flat_layer = flatten_layer(layer_conv8, suffix='9')\n",
        "#flat_layer = tf.layers.dropout(flat_layer, rate= keep_prob)\n",
        "dense_layer_1 = dense_layer(inp=flat_layer, num_inputs=262144 , num_outputs=bridge_size, suffix='10')"
      ],
      "execution_count": 41,
      "outputs": []
    },
    {
      "metadata": {
        "id": "9alyq7OMwbnh",
        "trusted": true,
        "collapsed": true,
        "_uuid": "6b47e3d951a3e4a16c15bedf7b095538a56d1572"
      },
      "cell_type": "code",
      "source": [
        "start_hook = tf.cast(csr_matrix(([1], ([0], [fwd_dict[start_tag]])), shape=(1, vocab_size)).A, tf.float32)\n",
        "end_hook = tf.cast(csr_matrix(([1], ([0], [fwd_dict[end_tag]])), shape=(1, vocab_size)).A, tf.float32)"
      ],
      "execution_count": 42,
      "outputs": []
    },
    {
      "metadata": {
        "id": "hTNjg07RRT-y",
        "trusted": true,
        "_uuid": "78770378244280ef3d56e84bf9585ed5163d121e",
        "collapsed": true
      },
      "cell_type": "code",
      "source": [
        "hook = tf.slice(x_caption, [0, 0], [1, vocab_size])\n",
        "h = dense_layer_1\n",
        "h, out = rnn_cell(Wi ,Wo, Wconv, bconv, h, hook)"
      ],
      "execution_count": 43,
      "outputs": []
    },
    {
      "metadata": {
        "id": "G5sHdnNz_V5v",
        "trusted": true,
        "collapsed": true,
        "_uuid": "bcfac6bcb956adafd5b5116cec3193fa502bff84"
      },
      "cell_type": "code",
      "source": [
        "def fn(prev, curr):\n",
        "    h = prev[0]\n",
        "    curr = tf.reshape(curr, [1, vocab_size])\n",
        "    h, out = rnn_cell(Wi ,Wo, Wf, b, h, curr)\n",
        "    return h, out"
      ],
      "execution_count": 44,
      "outputs": []
    },
    {
      "metadata": {
        "id": "qm6_530y_g8n",
        "trusted": true,
        "collapsed": true,
        "_uuid": "f770bc9dd0a0d9b03b2ff554c63e56948ffe67d3"
      },
      "cell_type": "code",
      "source": [
        "_, output = tf.scan(fn, x_caption[1:], initializer=(h, out))"
      ],
      "execution_count": 45,
      "outputs": []
    },
    {
      "metadata": {
        "id": "yc4k8moFrewr",
        "trusted": true,
        "collapsed": true,
        "_uuid": "184726e5e98374ffab3a881907cd63811dc7b00b"
      },
      "cell_type": "code",
      "source": [
        "output = tf.squeeze(output, axis  = 1)"
      ],
      "execution_count": 46,
      "outputs": []
    },
    {
      "metadata": {
        "id": "SHgK0aiTNO9p",
        "trusted": true,
        "collapsed": true,
        "_uuid": "9ba07204a83c1c03b62e2eef83a9404370e3872a"
      },
      "cell_type": "code",
      "source": [
        "outputs = tf.concat([out, output], axis = 0)"
      ],
      "execution_count": 47,
      "outputs": []
    },
    {
      "metadata": {
        "id": "Ar_9Bgv20G0M",
        "trusted": true,
        "collapsed": true,
        "_uuid": "4942e7f4a4ad7e04af40fc6194733af950a3f9d8"
      },
      "cell_type": "code",
      "source": [
        "cost = tf.reduce_mean(tf.compat.v1.nn.softmax_cross_entropy_with_logits_v2(logits=outputs, labels=y))\n",
        "optimizer = tf.compat.v1.train.AdamOptimizer(learning_rate).minimize(cost)"
      ],
      "execution_count": 48,
      "outputs": []
    },
    {
      "metadata": {
        "id": "fWqobzqI1zTW",
        "trusted": true,
        "collapsed": true,
        "_uuid": "ab5f27add76696e5b16a82f3c6a0aaae88ea53ab"
      },
      "cell_type": "code",
      "source": [
        "pred = tf.compat.v1.nn.softmax(outputs)"
      ],
      "execution_count": 49,
      "outputs": []
    },
    {
      "metadata": {
        "id": "1vCTCDZhivqb",
        "trusted": true,
        "collapsed": true,
        "_uuid": "f83fd7e702135ef01d8d5f6582e345dc7102664f"
      },
      "cell_type": "code",
      "source": [
        "# Model evaluation\n",
        "correct_pred = tf.equal(tf.argmax(pred, 1), tf.argmax(y, 1))\n",
        "accuracy = tf.reduce_mean(tf.cast(correct_pred, tf.float32))"
      ],
      "execution_count": 50,
      "outputs": []
    },
    {
      "metadata": {
        "trusted": true,
        "collapsed": true,
        "_uuid": "cb767b679c178e25c2368da250f90dd0e5747516",
        "id": "XlSxC5Om4EeR"
      },
      "cell_type": "markdown",
      "source": [
        "## Predictive Model"
      ]
    },
    {
      "metadata": {
        "trusted": true,
        "_uuid": "75dd9c0016ae3c612ecc1b244a024d6df649e421",
        "collapsed": true,
        "id": "AKXXjL4-4EeR"
      },
      "cell_type": "code",
      "source": [
        "out_tensor = tf.TensorArray(dtype=tf.float32, dynamic_size=True, size = 0)"
      ],
      "execution_count": 51,
      "outputs": []
    },
    {
      "metadata": {
        "trusted": true,
        "_uuid": "3648416cf2e077edfc8d7782b7664371c058ec7a",
        "collapsed": true,
        "id": "uCtyoHis4EeR"
      },
      "cell_type": "code",
      "source": [
        "htest = dense_layer_1\n",
        "htest, out_first = rnn_cell(Wi ,Wo, Wconv, bconv, htest, start_hook)\n",
        "t = 0\n",
        "out_ = tf.one_hot(tf.argmax(tf.nn.softmax(out_first), 1), depth=vocab_size)\n",
        "out_tensor = out_tensor.write(t, out_)\n",
        "t += 1"
      ],
      "execution_count": 52,
      "outputs": []
    },
    {
      "metadata": {
        "trusted": true,
        "_uuid": "5d10609f31ad2587d3121345b539aa69f6802475",
        "collapsed": true,
        "id": "_fm8us1r4EeR"
      },
      "cell_type": "code",
      "source": [
        "def condition(res, h, out_tensor, t):\n",
        "    return tf.logical_and(tf.logical_not(tf.equal(tf.argmax(res, 1)[0], fwd_dict[end_tag])), tf.less(t, max_sent_limit))"
      ],
      "execution_count": 53,
      "outputs": []
    },
    {
      "metadata": {
        "trusted": true,
        "collapsed": true,
        "_uuid": "07d5d051591112b6416680d1fd3909f96ef57476",
        "id": "5_lXgqh84EeR"
      },
      "cell_type": "code",
      "source": [
        "def action(res, h, out_tensor, t):\n",
        "    h, out = rnn_cell(Wi ,Wo, Wf, b, h, res)\n",
        "    res = tf.one_hot(tf.argmax(tf.nn.softmax(out), 1), depth=vocab_size)\n",
        "    out_tensor = out_tensor.write(t, res)\n",
        "    return res, h, out_tensor, t + 1"
      ],
      "execution_count": 54,
      "outputs": []
    },
    {
      "metadata": {
        "trusted": true,
        "_uuid": "c3613d04417c80e313f76019551791945817851d",
        "collapsed": true,
        "id": "H6HxWDtr4EeR"
      },
      "cell_type": "code",
      "source": [
        "_, __, final_outputs, T = tf.while_loop(condition, action, [out_, htest, out_tensor, t])"
      ],
      "execution_count": 55,
      "outputs": []
    },
    {
      "metadata": {
        "trusted": true,
        "_uuid": "f3d88cbd9984c55891f1032f630f58f1e2f63cb4",
        "collapsed": true,
        "id": "XiE9gOir4EeR"
      },
      "cell_type": "code",
      "source": [
        "final_prediction = tf.squeeze(final_outputs.stack())"
      ],
      "execution_count": 56,
      "outputs": []
    },
    {
      "metadata": {
        "id": "dF6_ZohcizdG",
        "trusted": true,
        "collapsed": true,
        "_uuid": "89bae773b576df12a4fce970058caf9bc4da2c0e"
      },
      "cell_type": "code",
      "source": [
        "saver = tf.compat.v1.train.Saver()\n",
        "init = tf.compat.v1.global_variables_initializer()"
      ],
      "execution_count": 57,
      "outputs": []
    },
    {
      "metadata": {
        "id": "4kpvGws-kjDD",
        "_uuid": "93a9861b97eb568b15bae7428abd22ced9459172"
      },
      "cell_type": "markdown",
      "source": [
        "# Model Implemetation"
      ]
    },
    {
      "metadata": {
        "id": "H3Y4yxP5i6Aq",
        "colab": {
          "base_uri": "https://localhost:8080/"
        },
        "outputId": "4a4bcada-62e8-49ed-fff7-3157d37c7426",
        "trusted": true,
        "_uuid": "c75d5229334c68612d5acbe5fbcd81edf2c67c2a",
        "scrolled": false,
        "collapsed": true
      },
      "cell_type": "code",
      "source": [
        "with tf.compat.v1.Session() as sess:\n",
        "    sess.run(init)\n",
        "    m = len(train_caption)\n",
        "    for epoch in range(training_iters):\n",
        "        total_cost = 0\n",
        "        total_acc = 0\n",
        "        for i in range(m):\n",
        "            _, cst, acc = sess.run([optimizer, cost, accuracy], feed_dict = {x_caption:train_caption[i][:-1].A, x_inp:train[i:i+1], y:train_caption[i][1:].A})\n",
        "            total_cost += cst\n",
        "            total_acc += acc\n",
        "        if (epoch + 1) % display_step == 0:\n",
        "            print('After ', (epoch + 1), 'iterations: Cost = ', total_cost / m, 'and Accuracy: ', total_acc * 100/ m , '%' )\n",
        "    print('Optimization finished!')\n",
        "    print(\"Let's check\")\n",
        "    for tests in range(num_tests):\n",
        "        image_num = random.randint(0, sample_size - 1)\n",
        "        caption = sess.run(final_prediction, feed_dict = {x_inp:train[image_num:image_num + 1]})\n",
        "        print(caption.shape)\n",
        "        caption = np.argmax(caption[:-1], 1)\n",
        "        capt = ''\n",
        "        for i in caption:\n",
        "            capt += rev_dict[i] + ' '\n",
        "        print('Predicted Caption:->', capt)\n",
        "        orig_cap = np.argmax(train_caption[image_num:image_num + 1][0][1:-1].A, 1)\n",
        "        orignalcaption = ''\n",
        "        for i in orig_cap:\n",
        "            orignalcaption += rev_dict[i] + ' '\n",
        "        print('Orignal Caption:->', orignalcaption)\n",
        "        plt.imshow(real_images[image_num])\n",
        "        plt.title('Image')\n",
        "        plt.show()"
      ],
      "execution_count": null,
      "outputs": [
        {
          "metadata": {
            "tags": null
          },
          "name": "stdout",
          "output_type": "stream",
          "text": [
            "After  1000 iterations: Cost =  11.019794797897339 and Accuracy:  29.7002408405145 %\n",
            "After  2000 iterations: Cost =  7.546189546585083 and Accuracy:  40.902041643857956 %\n"
          ]
        }
      ]
    },
    {
      "cell_type": "code",
      "source": [],
      "metadata": {
        "id": "NPQ_kpoP9Zlc"
      },
      "execution_count": null,
      "outputs": []
    }
  ],
  "metadata": {
    "colab": {
      "provenance": [],
      "collapsed_sections": [],
      "include_colab_link": true
    },
    "kernelspec": {
      "display_name": "Python 3",
      "language": "python",
      "name": "python3"
    },
    "accelerator": "GPU",
    "language_info": {
      "name": "python",
      "version": "3.6.4",
      "mimetype": "text/x-python",
      "codemirror_mode": {
        "name": "ipython",
        "version": 3
      },
      "pygments_lexer": "ipython3",
      "nbconvert_exporter": "python",
      "file_extension": ".py"
    }
  },
  "nbformat": 4,
  "nbformat_minor": 0
}